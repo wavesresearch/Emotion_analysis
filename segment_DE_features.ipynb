{
 "cells": [
  {
   "cell_type": "code",
   "execution_count": null,
   "id": "8b145579",
   "metadata": {},
   "outputs": [],
   "source": [
    "import mne\n",
    "import numpy as np\n",
    "import os\n",
    "import pandas as pd\n",
    "from os import listdir\n",
    "from os.path import isfile, join\n",
    "import sys\n",
    "import math\n",
    "# import pandas as pd\n",
    "import scipy.io as sio\n",
    "from sklearn import preprocessing\n",
    "from scipy.signal import butter, lfilter\n",
    "from scipy.io import loadmat"
   ]
  },
  {
   "cell_type": "code",
   "execution_count": null,
   "id": "36bbb5b9",
   "metadata": {},
   "outputs": [],
   "source": [
    "seg_size=200\n",
    "channels=62\n",
    "sub_bands=5"
   ]
  },
  {
   "cell_type": "code",
   "execution_count": null,
   "id": "e79ca663",
   "metadata": {},
   "outputs": [],
   "source": [
    "# data_read='data_address'\n",
    "data_read= r'E:\\EEG\\SEED_Dataset\\seed_analysis\\Preprocessed_EEG'\n",
    "file1 = os.listdir(data_read)\n",
    "file1"
   ]
  },
  {
   "cell_type": "code",
   "execution_count": null,
   "id": "78f6e076",
   "metadata": {},
   "outputs": [],
   "source": [
    "# labels=loadmat('label_address')\n",
    "# labels"
   ]
  },
  {
   "cell_type": "code",
   "execution_count": null,
   "id": "e0cf5615",
   "metadata": {},
   "outputs": [],
   "source": [
    "################BANDPASS FILTER################\n",
    "def butter_band(lowcut, highcut, fsamp, order=3):\n",
    "    b, a = butter(order, [lowcut, highcut], btype='band', fs=fsamp)\n",
    "    return b, a\n",
    "\n",
    "def butter_BPF_filter(data, lowcut, highcut, fs, order=3):\n",
    "    b, a = butter_band(lowcut, highcut, fs, order=order)\n",
    "    y = lfilter(b, a, data)\n",
    "    return y\n",
    "\n",
    "###############COMPUTATION OF DIFFERENTIAL ENTROPY##########\n",
    "def diff_ent_feat(signal):\n",
    "    variance = np.var(signal, ddof=1)\n",
    "    diff_ent = math.log(2 * math.pi * math.e * variance) / 2\n",
    "    return diff_ent"
   ]
  },
  {
   "cell_type": "code",
   "execution_count": null,
   "id": "c6dbec5e",
   "metadata": {},
   "outputs": [],
   "source": [
    "def DE_feature_all(file):\n",
    "    ############################\n",
    "    data = loadmat(file)\n",
    "    frequency = 200\n",
    "    trials=[key for key in data.keys()]\n",
    "    trials=trials[3:]\n",
    "    DE_feat_matrix = np.empty([0, channels, sub_bands])\n",
    "    #################\n",
    "    for trial in range(2):\n",
    "        tmp_signal_emot = data[trials[trial]]\n",
    "        num_seg = int(len(tmp_signal_emot[0]) / seg_size)\n",
    "        matrix_de1 = np.empty([0, num_seg ])\n",
    "        #########################\n",
    "        for channel in range(channels):\n",
    "            signal_emot = tmp_signal_emot[channel]\n",
    "            #########################\n",
    "            del_band = butter_BPF_filter(signal_emot, 1, 4, frequency, order=3)\n",
    "            th_band = butter_BPF_filter(signal_emot, 4, 8, frequency, order=3)\n",
    "            alp_band = butter_BPF_filter(signal_emot, 8, 14, frequency, order=3)\n",
    "            bet_band = butter_BPF_filter(signal_emot, 14, 31, frequency, order=3)\n",
    "            gam_band = butter_BPF_filter(signal_emot, 31, 51, frequency, order=3)\n",
    "            ##########################\n",
    "            DE_del_band = np.zeros(shape=[0], dtype=float)\n",
    "            DE_th_band = np.zeros(shape=[0], dtype=float)\n",
    "            DE_alp_band = np.zeros(shape=[0], dtype=float)\n",
    "            DE_bet_band = np.zeros(shape=[0], dtype=float)\n",
    "            DE_gam_band = np.zeros(shape=[0], dtype=float)\n",
    "            ########################\n",
    "            for index in range(num_seg):\n",
    "                de1 = diff_ent_feat(del_band[index * seg_size:(index + 1) * seg_size]) \n",
    "                DE_del_band = np.append(DE_del_band,de1)\n",
    "                ######################\n",
    "                de2 = diff_ent_feat(th_band[index * seg_size:(index + 1) * seg_size])\n",
    "                DE_th_band = np.append(DE_th_band, de2)\n",
    "                ######################\n",
    "                de3 = diff_ent_feat(alp_band[index * seg_size:(index + 1) * seg_size])\n",
    "                DE_alp_band = np.append(DE_alp_band, de3)\n",
    "                ######################\n",
    "                de4 = diff_ent_feat(bet_band[index * seg_size:(index + 1) * seg_size])\n",
    "                DE_bet_band = np.append(DE_bet_band, de4)\n",
    "                ######################\n",
    "                de5 = diff_ent_feat(gam_band[index * seg_size:(index + 1) * seg_size])\n",
    "                DE_gam_band = np.append(DE_gam_band, de5)\n",
    "            #########################\n",
    "            matrix_de = np.vstack([DE_del_band,DE_th_band,DE_alp_band,DE_bet_band,DE_gam_band])\n",
    "#             print('matrix_de',matrix_de.shape)\n",
    "            matrix_de1 = np.vstack([matrix_de1,matrix_de])           \n",
    "        print('matrix_de1',matrix_de1.shape)\n",
    "        matrix_de2 = matrix_de1.reshape(-1, sub_bands, num_seg)\n",
    "        print('matrix_de2',matrix_de2.shape)\n",
    "        matrix_de3 = matrix_de2.transpose([2, 0, 1])\n",
    "        print('matrix_de3',matrix_de3.shape)\n",
    "        DE_feat_matrix = np.vstack([DE_feat_matrix, matrix_de3])\n",
    "\n",
    "    print(\"DE_feat_matrix shape:\", DE_feat_matrix.shape)\n",
    "    return DE_feat_matrix\n",
    "\n",
    "######################################"
   ]
  },
  {
   "cell_type": "code",
   "execution_count": null,
   "id": "b3835bc1",
   "metadata": {},
   "outputs": [],
   "source": [
    "# X = np.empty([0, channels, sub_bands])\n",
    "# y = np.empty([0, 1])"
   ]
  },
  {
   "cell_type": "code",
   "execution_count": null,
   "id": "d449590d",
   "metadata": {},
   "outputs": [],
   "source": [
    "# for i in range(len(file1)):\n",
    "for i in range(1):\n",
    "    file_name =  os.path.join(data_read,file1[i])\n",
    "    print('processing {}'.format(file1[i]))\n",
    "    DE_feat_matrix = DE_feature_all(file_name)\n",
    "    print(f'DE_feat_matrix shape is :{DE_feat_matrix.shape}')\n",
    "    subject=file1[i].split('.')\n",
    "#     np.save('address_to_save_feat_matrix'+subject[0], DE_feat_matrix)"
   ]
  },
  {
   "cell_type": "code",
   "execution_count": null,
   "id": "dc4d7d89",
   "metadata": {},
   "outputs": [],
   "source": [
    "y_all=np.empty([0])\n",
    "all_label = [1, 0, -1, -1, 0, 1, -1, 0, 1, 1, 0, -1, 0, 1, -1]\n",
    "samples =[235,233,206,238,185,195,237,216,265,237,235,233,235,238,206]\n",
    "for i in range(15):\n",
    "    y_all=np.append(y_all,all_label[i]*np.ones([samples[i]]))\n",
    "np.save('address_to_save_labels', y_all)"
   ]
  }
 ],
 "metadata": {
  "kernelspec": {
   "display_name": "Python 3 (ipykernel)",
   "language": "python",
   "name": "python3"
  },
  "language_info": {
   "codemirror_mode": {
    "name": "ipython",
    "version": 3
   },
   "file_extension": ".py",
   "mimetype": "text/x-python",
   "name": "python",
   "nbconvert_exporter": "python",
   "pygments_lexer": "ipython3",
   "version": "3.9.10"
  }
 },
 "nbformat": 4,
 "nbformat_minor": 5
}
