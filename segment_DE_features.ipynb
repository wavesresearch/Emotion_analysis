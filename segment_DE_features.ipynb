{
 "cells": [
  {
   "cell_type": "code",
   "execution_count": 1,
   "id": "8b145579",
   "metadata": {},
   "outputs": [],
   "source": [
    "import mne\n",
    "import numpy as np\n",
    "import os\n",
    "import pandas as pd\n",
    "from os import listdir\n",
    "from os.path import isfile, join\n",
    "import sys\n",
    "import math\n",
    "# import pandas as pd\n",
    "import scipy.io as sio\n",
    "from sklearn import preprocessing\n",
    "from scipy.signal import butter, lfilter\n",
    "from scipy.io import loadmat"
   ]
  },
  {
   "cell_type": "code",
   "execution_count": 2,
   "id": "36bbb5b9",
   "metadata": {},
   "outputs": [],
   "source": [
    "seg_size=200\n",
    "channels=62\n",
    "sub_bands=5"
   ]
  },
  {
   "cell_type": "code",
   "execution_count": 4,
   "id": "e79ca663",
   "metadata": {},
   "outputs": [
    {
     "data": {
      "text/plain": [
       "['10_20131130.mat',\n",
       " '10_20131204.mat',\n",
       " '10_20131211.mat',\n",
       " '11_20140618.mat',\n",
       " '11_20140625.mat',\n",
       " '11_20140630.mat',\n",
       " '12_20131127.mat',\n",
       " '12_20131201.mat',\n",
       " '12_20131207.mat',\n",
       " '13_20140527.mat',\n",
       " '13_20140603.mat',\n",
       " '13_20140610.mat',\n",
       " '14_20140601.mat',\n",
       " '14_20140615.mat',\n",
       " '14_20140627.mat',\n",
       " '15_20130709.mat',\n",
       " '15_20131016.mat',\n",
       " '15_20131105.mat',\n",
       " '1_20131027.mat',\n",
       " '1_20131030.mat',\n",
       " '1_20131107.mat',\n",
       " '2_20140404.mat',\n",
       " '2_20140413.mat',\n",
       " '2_20140419.mat',\n",
       " '3_20140603.mat',\n",
       " '3_20140611.mat',\n",
       " '3_20140629.mat',\n",
       " '4_20140621.mat',\n",
       " '4_20140702.mat',\n",
       " '4_20140705.mat',\n",
       " '5_20140411.mat',\n",
       " '5_20140418.mat',\n",
       " '5_20140506.mat',\n",
       " '6_20130712.mat',\n",
       " '6_20131016.mat',\n",
       " '6_20131113.mat',\n",
       " '7_20131027.mat',\n",
       " '7_20131030.mat',\n",
       " '7_20131106.mat',\n",
       " '8_20140511.mat',\n",
       " '8_20140514.mat',\n",
       " '8_20140521.mat',\n",
       " '9_20140620.mat',\n",
       " '9_20140627.mat',\n",
       " '9_20140704.mat',\n",
       " 'label.mat',\n",
       " 'readme.txt']"
      ]
     },
     "execution_count": 4,
     "metadata": {},
     "output_type": "execute_result"
    }
   ],
   "source": [
    "# data_read='data_address'\n",
    "data_read= r'E:\\EEG\\SEED_Dataset\\seed_analysis\\Preprocessed_EEG'\n",
    "file1 = os.listdir(data_read)\n",
    "file1"
   ]
  },
  {
   "cell_type": "code",
   "execution_count": 6,
   "id": "78f6e076",
   "metadata": {},
   "outputs": [],
   "source": [
    "# labels=loadmat('label_address')\n",
    "# labels"
   ]
  },
  {
   "cell_type": "code",
   "execution_count": 7,
   "id": "e0cf5615",
   "metadata": {},
   "outputs": [],
   "source": [
    "################BANDPASS FILTER################\n",
    "def butter_band(lowcut, highcut, fsamp, order=3):\n",
    "    b, a = butter(order, [lowcut, highcut], btype='band', fs=fsamp)\n",
    "    return b, a\n",
    "\n",
    "def butter_BPF_filter(data, lowcut, highcut, fs, order=3):\n",
    "    b, a = butter_band(lowcut, highcut, fs, order=order)\n",
    "    y = lfilter(b, a, data)\n",
    "    return y\n",
    "\n",
    "###############COMPUTATION OF DIFFERENTIAL ENTROPY##########\n",
    "def diff_ent_feat(signal):\n",
    "    variance = np.var(signal, ddof=1)\n",
    "    diff_ent = math.log(2 * math.pi * math.e * variance) / 2\n",
    "    return diff_ent"
   ]
  },
  {
   "cell_type": "code",
   "execution_count": 47,
   "id": "c6dbec5e",
   "metadata": {},
   "outputs": [],
   "source": [
    "def DE_feature_all(file):\n",
    "    ############################\n",
    "    data = loadmat(file)\n",
    "    frequency = 200\n",
    "    trials=[key for key in data.keys()]\n",
    "    trials=trials[3:]\n",
    "    DE_feat_matrix = np.empty([0, channels, sub_bands])\n",
    "    #################\n",
    "    for trial in range(2):\n",
    "        tmp_signal_emot = data[trials[trial]]\n",
    "        num_seg = int(len(tmp_signal_emot[0]) / seg_size)\n",
    "        matrix_de1 = np.empty([0, num_seg ])\n",
    "        #########################\n",
    "        for channel in range(channels):\n",
    "            signal_emot = tmp_signal_emot[channel]\n",
    "            #########################\n",
    "            del_band = butter_BPF_filter(signal_emot, 1, 4, frequency, order=3)\n",
    "            th_band = butter_BPF_filter(signal_emot, 4, 8, frequency, order=3)\n",
    "            alp_band = butter_BPF_filter(signal_emot, 8, 14, frequency, order=3)\n",
    "            bet_band = butter_BPF_filter(signal_emot, 14, 31, frequency, order=3)\n",
    "            gam_band = butter_BPF_filter(signal_emot, 31, 51, frequency, order=3)\n",
    "            ##########################\n",
    "            DE_del_band = np.zeros(shape=[0], dtype=float)\n",
    "            DE_th_band = np.zeros(shape=[0], dtype=float)\n",
    "            DE_alp_band = np.zeros(shape=[0], dtype=float)\n",
    "            DE_bet_band = np.zeros(shape=[0], dtype=float)\n",
    "            DE_gam_band = np.zeros(shape=[0], dtype=float)\n",
    "            ########################\n",
    "            for index in range(num_seg):\n",
    "                de1 = diff_ent_feat(del_band[index * seg_size:(index + 1) * seg_size]) \n",
    "                DE_del_band = np.append(DE_del_band,de1)\n",
    "                ######################\n",
    "                de2 = diff_ent_feat(th_band[index * seg_size:(index + 1) * seg_size])\n",
    "                DE_th_band = np.append(DE_th_band, de2)\n",
    "                ######################\n",
    "                de3 = diff_ent_feat(alp_band[index * seg_size:(index + 1) * seg_size])\n",
    "                DE_alp_band = np.append(DE_alp_band, de3)\n",
    "                ######################\n",
    "                de4 = diff_ent_feat(bet_band[index * seg_size:(index + 1) * seg_size])\n",
    "                DE_bet_band = np.append(DE_bet_band, de4)\n",
    "                ######################\n",
    "                de5 = diff_ent_feat(gam_band[index * seg_size:(index + 1) * seg_size])\n",
    "                DE_gam_band = np.append(DE_gam_band, de5)\n",
    "            #########################\n",
    "            matrix_de = np.vstack([DE_del_band,DE_th_band,DE_alp_band,DE_bet_band,DE_gam_band])\n",
    "#             print('matrix_de',matrix_de.shape)\n",
    "            matrix_de1 = np.vstack([matrix_de1,matrix_de])           \n",
    "        print('matrix_de1',matrix_de1.shape)\n",
    "        matrix_de2 = matrix_de1.reshape(-1, sub_bands, num_seg)\n",
    "        print('matrix_de2',matrix_de2.shape)\n",
    "        matrix_de3 = matrix_de2.transpose([2, 0, 1])\n",
    "        print('matrix_de3',matrix_de3.shape)\n",
    "        DE_feat_matrix = np.vstack([DE_feat_matrix, matrix_de3])\n",
    "\n",
    "    print(\"DE_feat_matrix shape:\", DE_feat_matrix.shape)\n",
    "    return DE_feat_matrix\n",
    "\n",
    "######################################"
   ]
  },
  {
   "cell_type": "code",
   "execution_count": 48,
   "id": "b3835bc1",
   "metadata": {},
   "outputs": [],
   "source": [
    "# X = np.empty([0, channels, sub_bands])\n",
    "# y = np.empty([0, 1])"
   ]
  },
  {
   "cell_type": "code",
   "execution_count": 51,
   "id": "d449590d",
   "metadata": {},
   "outputs": [
    {
     "name": "stdout",
     "output_type": "stream",
     "text": [
      "processing 10_20131130.mat\n",
      "matrix_de1 (310, 235)\n",
      "matrix_de2 (62, 5, 235)\n",
      "matrix_de3 (235, 62, 5)\n",
      "matrix_de1 (310, 233)\n",
      "matrix_de2 (62, 5, 233)\n",
      "matrix_de3 (233, 62, 5)\n",
      "DE_feat_matrix shape: (468, 62, 5)\n",
      "DE_feat_matrix shape is :(468, 62, 5)\n"
     ]
    }
   ],
   "source": [
    "# for i in range(len(file1)):\n",
    "for i in range(1):\n",
    "    file_name =  os.path.join(data_read,file1[i])\n",
    "    print('processing {}'.format(file1[i]))\n",
    "    DE_feat_matrix = DE_feature_all(file_name)\n",
    "    print(f'DE_feat_matrix shape is :{DE_feat_matrix.shape}')\n",
    "    subject=file1[i].split('.')\n",
    "#     np.save('address_to_save_feat_matrix'+subject[0], DE_feat_matrix)"
   ]
  },
  {
   "cell_type": "code",
   "execution_count": 52,
   "id": "dc4d7d89",
   "metadata": {},
   "outputs": [],
   "source": [
    "y_all=np.empty([0])\n",
    "all_label = [1, 0, -1, -1, 0, 1, -1, 0, 1, 1, 0, -1, 0, 1, -1]\n",
    "samples =[235,233,206,238,185,195,237,216,265,237,235,233,235,238,206]\n",
    "for i in range(15):\n",
    "    y_all=np.append(y_all,all_label[i]*np.ones([samples[i]]))\n",
    "np.save('address_to_save_labels', y_all)"
   ]
  },
  {
   "cell_type": "code",
   "execution_count": 53,
   "id": "000f176c",
   "metadata": {},
   "outputs": [
    {
     "data": {
      "text/plain": [
       "array([[[4.45911106, 4.0614499 , 3.34315828, 3.20218052, 2.96804442],\n",
       "        [4.34452332, 3.93729835, 3.33328566, 2.8174783 , 2.25684202],\n",
       "        [4.16889644, 3.88309777, 3.24772429, 3.25443138, 3.16027276],\n",
       "        ...,\n",
       "        [3.06597253, 2.94435366, 2.42713594, 2.56145688, 2.07701913],\n",
       "        [3.02191665, 3.08156544, 2.3987821 , 2.5634836 , 2.24392255],\n",
       "        [3.05468218, 3.10931472, 2.37561827, 2.60411023, 2.2311039 ]],\n",
       "\n",
       "       [[3.06985104, 2.36775608, 2.24129162, 2.95709164, 3.08472813],\n",
       "        [3.1045043 , 2.48034482, 2.47004641, 2.46845065, 2.44493509],\n",
       "        [3.06153051, 2.53144353, 2.4891678 , 3.01502726, 3.13759102],\n",
       "        ...,\n",
       "        [2.84596605, 2.15292461, 2.44409406, 2.49559967, 2.42701215],\n",
       "        [2.83544554, 2.30262604, 2.57237092, 2.53897442, 2.37423934],\n",
       "        [2.8596004 , 2.32743487, 2.56220645, 2.53633519, 2.36218186]],\n",
       "\n",
       "       [[3.32776254, 3.09568854, 2.56427496, 2.89525191, 3.01046401],\n",
       "        [3.21786178, 3.03427546, 2.51532812, 2.57171394, 2.52809989],\n",
       "        [2.89935362, 2.99431163, 2.63439167, 3.11184395, 3.12170341],\n",
       "        ...,\n",
       "        [2.86341055, 2.82706647, 2.69107597, 2.62765243, 2.44384953],\n",
       "        [3.02054712, 2.98424793, 2.78044885, 2.66766161, 2.4288081 ],\n",
       "        [3.07700879, 2.99749931, 2.79856685, 2.65222655, 2.39593174]],\n",
       "\n",
       "       ...,\n",
       "\n",
       "       [[4.54733869, 3.93380146, 3.11361098, 2.75632273, 2.63550042],\n",
       "        [4.51405695, 3.87333861, 3.10695466, 2.56995383, 2.28088106],\n",
       "        [4.45027102, 3.83866473, 3.1535333 , 2.9434947 , 3.00481452],\n",
       "        ...,\n",
       "        [3.41364815, 3.40090077, 2.48614426, 2.67122156, 2.40418186],\n",
       "        [3.45915407, 3.39404457, 2.42187781, 2.67377713, 2.33046207],\n",
       "        [3.48095129, 3.39003083, 2.51432146, 2.78732962, 2.35936188]],\n",
       "\n",
       "       [[4.1779193 , 3.08463547, 2.73810264, 2.96121134, 2.70887542],\n",
       "        [4.11575827, 3.14548428, 2.63911988, 2.63046542, 2.43075277],\n",
       "        [4.10832936, 2.99501464, 2.55405596, 3.3070211 , 3.03708438],\n",
       "        ...,\n",
       "        [2.34757997, 2.5993581 , 2.64132966, 2.4973944 , 2.45146342],\n",
       "        [2.64053398, 2.41502946, 2.55820081, 2.48994941, 2.35436554],\n",
       "        [2.74229764, 2.41960029, 2.50057118, 2.5583993 , 2.38305281]],\n",
       "\n",
       "       [[2.92100471, 2.76969394, 2.29760557, 2.7979966 , 2.74853519],\n",
       "        [2.99916592, 2.72789457, 2.06614577, 2.58973577, 2.51989191],\n",
       "        [3.01913449, 2.76963061, 1.97300903, 3.03292993, 3.12768101],\n",
       "        ...,\n",
       "        [2.48427634, 2.76722018, 2.79638186, 2.6587079 , 2.41677037],\n",
       "        [2.64538702, 2.7999193 , 2.67716805, 2.56731285, 2.24860387],\n",
       "        [2.63696471, 2.80840643, 2.67732688, 2.54637573, 2.33564857]]])"
      ]
     },
     "execution_count": 53,
     "metadata": {},
     "output_type": "execute_result"
    }
   ],
   "source": [
    "DE_feat_matrix"
   ]
  },
  {
   "cell_type": "code",
   "execution_count": null,
   "id": "63aa46bb",
   "metadata": {},
   "outputs": [],
   "source": []
  }
 ],
 "metadata": {
  "kernelspec": {
   "display_name": "Python 3 (ipykernel)",
   "language": "python",
   "name": "python3"
  },
  "language_info": {
   "codemirror_mode": {
    "name": "ipython",
    "version": 3
   },
   "file_extension": ".py",
   "mimetype": "text/x-python",
   "name": "python",
   "nbconvert_exporter": "python",
   "pygments_lexer": "ipython3",
   "version": "3.9.10"
  }
 },
 "nbformat": 4,
 "nbformat_minor": 5
}
