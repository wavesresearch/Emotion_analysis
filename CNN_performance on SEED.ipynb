{
 "cells": [
  {
   "cell_type": "code",
   "execution_count": null,
   "id": "1a2a83d7",
   "metadata": {
    "executionInfo": {
     "elapsed": 1036,
     "status": "ok",
     "timestamp": 1667983913803,
     "user": {
      "displayName": "Mohit Kumar",
      "userId": "16304085827041812375"
     },
     "user_tz": -60
    },
    "id": "1a2a83d7"
   },
   "outputs": [],
   "source": [
    "import numpy as np\n",
    "import pandas as pd\n",
    "from sklearn.model_selection import train_test_split,StratifiedKFold\n",
    "from sklearn.preprocessing import StandardScaler,MinMaxScaler\n",
    "from sklearn.svm import SVC\n",
    "import sys\n",
    "import scipy.io\n",
    "import os\n",
    "import openpyxl\n",
    "import re\n",
    "import pickle\n",
    "import time\n",
    "import scipy.io as sio"
   ]
  },
  {
   "cell_type": "code",
   "execution_count": null,
   "id": "ff1f56dd",
   "metadata": {
    "executionInfo": {
     "elapsed": 1212,
     "status": "ok",
     "timestamp": 1667983919400,
     "user": {
      "displayName": "Mohit Kumar",
      "userId": "16304085827041812375"
     },
     "user_tz": -60
    },
    "id": "ff1f56dd"
   },
   "outputs": [],
   "source": [
    "import keras\n",
    "from tensorflow.keras.utils import to_categorical\n",
    "import tensorflow as tf\n",
    "# from keras.models import load_model\n",
    "from tensorflow.keras.callbacks import EarlyStopping\n",
    "from keras.models import Sequential, Model\n",
    "from keras import models\n",
    "from keras.layers import Flatten, Dense, Concatenate, Reshape, LSTM,Conv1D,MaxPooling1D, concatenate\n",
    "from keras import backend as K\n",
    "from keras.layers import Layer,Input, Dense, Activation, ZeroPadding2D, BatchNormalization, Flatten, Conv2D\n",
    "from keras.layers import AveragePooling2D, MaxPooling2D, Dropout, GlobalMaxPooling2D, GlobalAveragePooling2D"
   ]
  },
  {
   "cell_type": "code",
   "execution_count": null,
   "id": "5424224f",
   "metadata": {},
   "outputs": [],
   "source": [
    "num_classes = 3\n",
    "channels=62\n",
    "drive='E'"
   ]
  },
  {
   "cell_type": "code",
   "execution_count": null,
   "id": "2bba70d9",
   "metadata": {
    "colab": {
     "base_uri": "https://localhost:8080/"
    },
    "executionInfo": {
     "elapsed": 22774,
     "status": "ok",
     "timestamp": 1667983943539,
     "user": {
      "displayName": "Mohit Kumar",
      "userId": "16304085827041812375"
     },
     "user_tz": -60
    },
    "id": "2bba70d9",
    "outputId": "1c7ea68d-7d34-4248-da87-9d09cffcce1e"
   },
   "outputs": [],
   "source": [
    "mypath='feature matrix address'\n",
    "file = os.listdir(mypath)\n",
    "file"
   ]
  },
  {
   "cell_type": "code",
   "execution_count": null,
   "id": "ba661c41",
   "metadata": {
    "colab": {
     "base_uri": "https://localhost:8080/"
    },
    "executionInfo": {
     "elapsed": 1494,
     "status": "ok",
     "timestamp": 1667984011624,
     "user": {
      "displayName": "Mohit Kumar",
      "userId": "16304085827041812375"
     },
     "user_tz": -60
    },
    "id": "ba661c41",
    "outputId": "bd827f9f-2683-459c-94bb-9eb0c3a5a773"
   },
   "outputs": [],
   "source": [
    "label_file='label address'\n",
    "label_fname = os.path.join(mypath,label_file)\n",
    "label = np.load(label_fname,allow_pickle='TRUE')\n",
    "label.shape"
   ]
  },
  {
   "cell_type": "code",
   "execution_count": null,
   "id": "b72aa9f0",
   "metadata": {
    "executionInfo": {
     "elapsed": 2,
     "status": "ok",
     "timestamp": 1667984013680,
     "user": {
      "displayName": "Mohit Kumar",
      "userId": "16304085827041812375"
     },
     "user_tz": -60
    },
    "id": "b72aa9f0"
   },
   "outputs": [],
   "source": [
    "def data_1Dto2D(data, Y=8, X=9):\n",
    "    data_2D = np.zeros([Y, X])\n",
    "    data_2D[0] = (0, 0, data[3], data[0], data[1], data[2], data[4], 0,0 )\n",
    "    data_2D[1] = (data[5], data[6], data[7], data[8], data[9], data[10], data[11], data[12], data[13])\n",
    "    data_2D[2] = (data[14], data[15], data[16], data[17], data[18], data[19], data[20], data[21], data[22])\n",
    "    data_2D[3] = (data[23], data[24], data[25], data[26], data[27], data[28], data[29], data[30], data[31])\n",
    "    data_2D[4] = (data[32], data[33], data[34], data[35],data[36], data[37], data[38], data[39], data[40])\n",
    "    data_2D[5] = (data[41], data[42], data[43], data[44], data[45], data[46], data[47], data[48], data[49])\n",
    "    data_2D[6] = (0, data[50], data[51], data[52], data[53], data[54], data[55], data[56], 0)\n",
    "    data_2D[7] = (0, 0, data[57], data[58], data[59], data[60], data[61], 0, 0)\n",
    "    # return shape:8*9\n",
    "    return data_2D"
   ]
  },
  {
   "cell_type": "code",
   "execution_count": null,
   "id": "34f67ae3",
   "metadata": {
    "executionInfo": {
     "elapsed": 2,
     "status": "ok",
     "timestamp": 1667984015814,
     "user": {
      "displayName": "Mohit Kumar",
      "userId": "16304085827041812375"
     },
     "user_tz": -60
    },
    "id": "34f67ae3"
   },
   "outputs": [],
   "source": [
    "def image_5_d(data11):\n",
    "    indexx=[0,1,2,3,4]\n",
    "    # lst=[0,1,7,8,54,62,63,64,70,71]\n",
    "    def eeg_image_wave(df,index):\n",
    "#         print(index)\n",
    "        wave_index=[index+i*5 for i in range(62)]\n",
    "#         print(wave_index)\n",
    "        data_1D=df[:,wave_index]\n",
    "#         print(data_1D)\n",
    "        data_3D=np.empty([0,8,9])\n",
    "        for i in range(data_1D.shape[0]):\n",
    "            data_2D_temp=data_1Dto2D(data_1D[i], Y=8, X=9)\n",
    "            data_2D_temp=data_2D_temp.reshape(1, 8, 9)\n",
    "            data_3D=np.vstack([data_3D, data_2D_temp])\n",
    "#         print(data_3D.shape)\n",
    "        return data_3D\n",
    "    delta_wave_image=eeg_image_wave(data11,indexx[0])\n",
    "    theta_wave_image=eeg_image_wave(data11,indexx[1])\n",
    "    alpha_wave_image=eeg_image_wave(data11,indexx[2])\n",
    "    beta_wave_data=eeg_image_wave(data11,indexx[3])\n",
    "    gamma_wave_data=eeg_image_wave(data11,indexx[4])\n",
    "    image_5_d1=np.stack((delta_wave_image,theta_wave_image,alpha_wave_image,beta_wave_data\n",
    "               ,gamma_wave_data),axis=1)\n",
    "    print(f'shape of the eeg image data: {image_5_d1.shape}')\n",
    "    return image_5_d1"
   ]
  },
  {
   "cell_type": "code",
   "execution_count": null,
   "id": "da575089",
   "metadata": {
    "executionInfo": {
     "elapsed": 2,
     "status": "ok",
     "timestamp": 1667984021282,
     "user": {
      "displayName": "Mohit Kumar",
      "userId": "16304085827041812375"
     },
     "user_tz": -60
    },
    "id": "da575089"
   },
   "outputs": [],
   "source": [
    "def cnn_model(X_train_cnn):\n",
    "    x_in=keras.Input(shape=(X_train_cnn.shape[1:]))\n",
    "    x=Conv2D(256, 5, activation='relu', padding='same', name='conv1')(x_in)\n",
    "    x=Conv2D(256, 5, activation='relu', padding='same', name='conv2')(x)\n",
    "    x=MaxPooling2D(2, 2, name='pool2')(x)\n",
    "    x=Conv2D(128, 4, activation='relu', padding='same', name='conv3')(x)\n",
    "    x=MaxPooling2D(2, 2, name='pool3')(x)####AveragePooling2D\n",
    "    x=Flatten(name='fla1')(x)\n",
    "    x=Dense(64, activation='relu', name='dense1')(x)\n",
    "    x=Dense(3, activation='softmax', name='out')(x)\n",
    "    model1=keras.Model(inputs=x_in, outputs=x)   \n",
    "    return model1"
   ]
  },
  {
   "cell_type": "code",
   "execution_count": null,
   "id": "6614223a",
   "metadata": {
    "colab": {
     "base_uri": "https://localhost:8080/"
    },
    "executionInfo": {
     "elapsed": 2998005,
     "status": "ok",
     "timestamp": 1667987022614,
     "user": {
      "displayName": "Mohit Kumar",
      "userId": "16304085827041812375"
     },
     "user_tz": -60
    },
    "id": "6614223a",
    "outputId": "3333bf98-14d0-469e-b068-c5c7e9464025"
   },
   "outputs": [],
   "source": [
    "# for i in range(len(file)):\n",
    "from sklearn import metrics\n",
    "acc_list = []\n",
    "std_list = []\n",
    "f1_score_acc_list = []\n",
    "f1_score_std_list = []\n",
    "all_acc = []\n",
    "all_f1_score = []\n",
    "scaling='no'\n",
    "num_classes=3\n",
    "folds=5\n",
    "# for i in range(1):\n",
    "for i in range(len(file)):\n",
    "    data_fname = os.path.join(mypath,file[i])\n",
    "    data = np.load(data_fname,allow_pickle='TRUE')\n",
    "    data1=data.reshape(data.shape[0],data.shape[1]*data.shape[2])\n",
    "    ############\n",
    "    if scaling== 'yes':\n",
    "        data_dnn = preprocessing.scale(data1, axis=0, with_mean=True, with_std=True, copy=True)\n",
    "        print('scaling is performed')\n",
    "    else:\n",
    "        data_dnn=data1\n",
    "        print('scaling is not performed')\n",
    "    ##############################\n",
    "    y_labels = label\n",
    "    y_labels = to_categorical(y_labels, 3)\n",
    "############################\n",
    "####################################\n",
    "    data_cnn= image_5_d(data_dnn)\n",
    "    data_cnn= data_cnn.transpose([0, 2, 3, 1])\n",
    "################################\n",
    "    print(f'data_cnn shape is:{data_cnn.shape}')\n",
    "    kfold = StratifiedKFold(n_splits=folds, shuffle=True, random_state=5)\n",
    "    # cvscores = []\n",
    "    # create model\n",
    "    for train, test in kfold.split(data_cnn, y_labels.argmax(1)):\n",
    "#         print(train)\n",
    "#         print(test)\n",
    "        X_train_cnn = data_cnn[train]\n",
    "        y_train = y_labels[train]\n",
    "        X_test_cnn = data_cnn[test]\n",
    "        y_test = y_labels[test]\n",
    "        #############################\n",
    "        model=cnn_model(X_train_cnn)\n",
    "        model.compile(loss=keras.losses.categorical_crossentropy,optimizer=tf.keras.optimizers.Adam(),metrics=['accuracy'])\n",
    "        model.fit(x=X_train_cnn, y=y_train, epochs=100,batch_size=128,verbose=0)\n",
    "        scores = model.evaluate(X_test_cnn, y_test, verbose=0)\n",
    "       #############\n",
    "        y_pred=model.predict(X_test_cnn)\n",
    "        y_true=y_test\n",
    "        y_pred=np.argmax(y_pred, axis=1)\n",
    "        y_true=np.argmax(y_true, axis=1)\n",
    "        f1_score=metrics.f1_score(y_true, y_pred, average='macro')\n",
    "##################\n",
    "        all_acc.append(scores[1] * 100)\n",
    "        all_f1_score.append(f1_score)\n",
    "        #############\n",
    "    acc_list.append(np.mean(all_acc))\n",
    "    std_list.append(np.std(all_acc))\n",
    "    f1_score_acc_list.append(np.mean(all_f1_score))\n",
    "    f1_score_std_list.append(np.std(all_f1_score))"
   ]
  },
  {
   "cell_type": "code",
   "execution_count": null,
   "id": "981ed5b3",
   "metadata": {
    "colab": {
     "base_uri": "https://localhost:8080/"
    },
    "executionInfo": {
     "elapsed": 20,
     "status": "ok",
     "timestamp": 1667987022615,
     "user": {
      "displayName": "Mohit Kumar",
      "userId": "16304085827041812375"
     },
     "user_tz": -60
    },
    "id": "981ed5b3",
    "outputId": "306b6539-df80-41c0-a0b8-a0a953722845"
   },
   "outputs": [],
   "source": [
    "model.summary()"
   ]
  },
  {
   "cell_type": "code",
   "execution_count": null,
   "id": "159df626",
   "metadata": {
    "colab": {
     "base_uri": "https://localhost:8080/",
     "height": 278
    },
    "executionInfo": {
     "elapsed": 698,
     "status": "ok",
     "timestamp": 1667987358026,
     "user": {
      "displayName": "Mohit Kumar",
      "userId": "16304085827041812375"
     },
     "user_tz": -60
    },
    "id": "159df626",
    "outputId": "ab7d3731-8efa-4266-f28a-b6ab486e28c0"
   },
   "outputs": [],
   "source": [
    "results=pd.DataFrame()\n",
    "results['Acc_all']=acc_list\n",
    "results['Std_all']=std_list\n",
    "results['f1_score_acc']=f1_score_acc_list\n",
    "results['f1_score_std']=f1_score_std_list\n",
    "results"
   ]
  }
 ],
 "metadata": {
  "accelerator": "GPU",
  "colab": {
   "provenance": []
  },
  "gpuClass": "standard",
  "kernelspec": {
   "display_name": "Python 3 (ipykernel)",
   "language": "python",
   "name": "python3"
  },
  "language_info": {
   "codemirror_mode": {
    "name": "ipython",
    "version": 3
   },
   "file_extension": ".py",
   "mimetype": "text/x-python",
   "name": "python",
   "nbconvert_exporter": "python",
   "pygments_lexer": "ipython3",
   "version": "3.9.10"
  }
 },
 "nbformat": 4,
 "nbformat_minor": 5
}
